{
 "cells": [
  {
   "cell_type": "code",
   "execution_count": 3,
   "id": "a782add7-5207-4a14-b334-b0d5d2a9dabb",
   "metadata": {},
   "outputs": [],
   "source": [
    "import tkinter as tk\n",
    "from nltk.corpus import words\n",
    "\n",
    "# Load English words from NLTK corpus\n",
    "english_words = set(words.words())\n",
    "\n",
    "def clear_all():\n",
    "    word1_field.delete(0, tk.END)\n",
    "    word2_field.delete(0, tk.END)\n",
    "\n",
    "def correct_word():\n",
    "    input_word = word1_field.get().lower()\n",
    "    corrected_word = input_word if input_word in english_words else \"Not found\"\n",
    "    word2_field.insert(10, corrected_word)\n",
    "\n",
    "if __name__ == \"__main__\":\n",
    "    root = tk.Tk()\n",
    "    root.configure(background='light green')\n",
    "    root.geometry(\"400x150\")\n",
    "    root.title(\"Spell Corrector\")\n",
    "\n",
    "    head_label = tk.Label(root, text='Welcome to Spell Corrector Application', fg='black', bg=\"red\")\n",
    "    label1 = tk.Label(root, text=\"Input Word\", fg='black', bg='dark green')\n",
    "    label2 = tk.Label(root, text=\"Corrected Word\", fg='black', bg='dark green')\n",
    "\n",
    "    head_label.grid(row=0, column=1)\n",
    "    label1.grid(row=1, column=0)\n",
    "    label2.grid(row=3, column=0, padx=10)\n",
    "\n",
    "    word1_field = tk.Entry()\n",
    "    word2_field = tk.Entry()\n",
    "\n",
    "    word1_field.grid(row=1, column=1, padx=10, pady=10)\n",
    "    word2_field.grid(row=3, column=1, padx=10, pady=10)\n",
    "\n",
    "    button1 = tk.Button(root, text=\"Correction\", bg=\"red\", fg=\"black\", command=correct_word)\n",
    "    button1.grid(row=2, column=1)\n",
    "\n",
    "    button2 = tk.Button(root, text=\"Clear\", bg=\"red\", fg=\"black\", command=clear_all)\n",
    "    button2.grid(row=4, column=1)\n",
    "\n",
    "    root.mainloop()\n",
    "\n"
   ]
  },
  {
   "cell_type": "code",
   "execution_count": null,
   "id": "eb82cc82-e4cd-46e0-9e45-a55897eee9cd",
   "metadata": {},
   "outputs": [],
   "source": []
  },
  {
   "cell_type": "code",
   "execution_count": null,
   "id": "db99a2ae-443d-46b6-bec3-cfef71ecca5a",
   "metadata": {},
   "outputs": [],
   "source": []
  }
 ],
 "metadata": {
  "kernelspec": {
   "display_name": "Python 3 (ipykernel)",
   "language": "python",
   "name": "python3"
  },
  "language_info": {
   "codemirror_mode": {
    "name": "ipython",
    "version": 3
   },
   "file_extension": ".py",
   "mimetype": "text/x-python",
   "name": "python",
   "nbconvert_exporter": "python",
   "pygments_lexer": "ipython3",
   "version": "3.11.8"
  }
 },
 "nbformat": 4,
 "nbformat_minor": 5
}
